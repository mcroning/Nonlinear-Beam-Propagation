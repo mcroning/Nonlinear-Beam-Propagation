{
 "cells": [
  {
   "cell_type": "code",
   "execution_count": 1,
   "id": "JV25mQWDY4Lp",
   "metadata": {
    "colab": {
     "base_uri": "https://localhost:8080/"
    },
    "executionInfo": {
     "elapsed": 23583,
     "status": "ok",
     "timestamp": 1664817926689,
     "user": {
      "displayName": "Mark Cronin-Golomb",
      "userId": "14693722444992082432"
     },
     "user_tz": 240
    },
    "id": "JV25mQWDY4Lp",
    "outputId": "e9395ac6-37e6-4eb1-853a-8f796f8ec041"
   },
   "outputs": [],
   "source": [
    "###from google.colab import drive\n",
    "###drive.mount('/content/drive')"
   ]
  },
  {
   "cell_type": "code",
   "execution_count": 2,
   "id": "40a86394",
   "metadata": {
    "executionInfo": {
     "elapsed": 3145,
     "status": "ok",
     "timestamp": 1664817929821,
     "user": {
      "displayName": "Mark Cronin-Golomb",
      "userId": "14693722444992082432"
     },
     "user_tz": 240
    },
    "id": "40a86394"
   },
   "outputs": [],
   "source": [
    "import numpy as np\n",
    "from scipy import signal\n",
    "from scipy.ndimage import gaussian_filter \n",
    "from scipy.io import savemat,loadmat\n",
    "import random\n",
    "import scipy as sp\n",
    "import scipy.sparse as sparse\n",
    "from numpy.linalg import matrix_power\n",
    "from scipy.sparse.linalg import eigsh,eigs\n",
    "import matplotlib.pyplot as plt\n",
    "import os"
   ]
  },
  {
   "cell_type": "code",
   "execution_count": 3,
   "id": "5ac4dd3c",
   "metadata": {},
   "outputs": [],
   "source": [
    "filepath=\"/Users/mcroning/Anaconda/\"\n",
    "!cd '/Users/mcroning/Anaconda' "
   ]
  },
  {
   "cell_type": "code",
   "execution_count": 4,
   "id": "4e41f4b4",
   "metadata": {},
   "outputs": [],
   "source": [
    "def makesparse(A):\n",
    "    M=[]\n",
    "    M=A\n",
    "    M=sparse.csr_matrix(np.where(abs(M)<1e-10,0,A))\n",
    "    return M"
   ]
  },
  {
   "cell_type": "code",
   "execution_count": 5,
   "id": "14b31764",
   "metadata": {},
   "outputs": [],
   "source": [
    "geomold=[]\n",
    "storenoiseold=False\n",
    "if os.path.exists(\"prdata.mat\"):\n",
    "    prdata=loadmat(\"prdata.mat\",simplify_cells=True)\n",
    "    geomold=tuple(prdata['geom'])\n",
    "    if 'storenoise' in prdata:\n",
    "        storenoiseold=prdata['storenoise']\n",
    "    else:\n",
    "        storenoiseold=False\n",
    "\n",
    "#fundamental constants\n",
    "q= 1.602e-19 # charge on electron\n",
    "kB= 1.38e-23 # Boltzmanns constant\n",
    "eps0 = 8.85e-12 #permittivity of free space\n",
    "\n",
    "#material and environmental parameters\n",
    "refin = 2.4 #refractive index\n",
    "noiseamp = 0 #noise (scattering) amplitude\n",
    "Id = 0.1 # equivalent dark intensity to represent themally excited carriers\n",
    "sigma = 2.0 #scattering correlation length\n",
    "gl = 0  #coupling constant length product, typically 2~3 in BaTi03\n",
    "T = 293.0 #temperature K\n",
    "NT= 6.4e22 #Bati03 trap density\n",
    "epsr= 2500 #relative dielectric permittivity\n",
    "\n",
    "#grid parameters\n",
    "xaper=2000 # xaperture microns\n",
    "yaper=1000 # yaper\n",
    "xsamp=2048 # number of samples in x\n",
    "ysamp=256  # number of samples in y\n",
    "rlen= 5000 # crystal (medium) length\n",
    "dz= 50     # step size\n",
    "dz_frac=0.001  # internal step for calc of z derivative of field norm to intrnal wavelength\n",
    "geom=(xaper,yaper,xsamp,ysamp,rlen,dz) # tuple to check for grid changes to dee if new noise and coords needed\n",
    "windowedge = 0.1 #Tukey widow edge parameter\n",
    "niter=int(rlen/dz)\n",
    "x=np.linspace(-xaper/2,xaper/2,xsamp)\n",
    "y=np.linspace(-yaper/2,yaper/2,ysamp)\n",
    "z=np.linspace(0,rlen,niter)\n",
    "\n",
    "\n",
    "\n",
    "\n",
    "\n",
    "#optical parameters\n",
    "lm= 0.625 # wavelength\n",
    "w01= 200 #beam 1 waist \n",
    "w02= 200 #beam 2 waist \n",
    "thout1=0.16 #external angle of incidence of beam 1\n",
    "thout2=-0.16 #external angle of incidence of beam 2\n",
    "phi1= 0.0 #beam 1 azimuth\n",
    "phi2 = 0.0 # beam 2 azimuth\n",
    "rat = 1 # beam intensity ratio\n",
    "th1=np.arcsin(np.sin(thout1)/refin)\n",
    "th2=np.arcsin(np.sin(thout2)/refin)\n",
    "dz_small=lm/refin*dz_frac\n",
    "#calcualtion switches\n",
    "transp1 = False # switch to True to apply input image to beam 1\n",
    "transp2 = False # switch to True to apply input image to beam 2\n",
    "loc= 'PyPy', #set location of diffraction operator in nonparaxial BPM P for exact operator\n",
    "test_sharma=False # switch nonparaxial BPM to toy instance from Sharma paper\n",
    "storenoise=False #anticipate using scattering noise in calcs\n",
    "newnoise=((geom!=geomold) or storenoise!=storenoiseold) and storenoise #regenerate noise array, eg if \n",
    "pml=False # True if using perfectle matched layers\n",
    "mode='fft' #fdbpm or fft or fdbpm nonparaxial or Gaussian Analytical\n",
    "\n",
    "prdata={\n",
    "    'q':q,\n",
    "    'kB':kB,\n",
    "    'eps0':eps0,\n",
    "    'epsr':epsr,\n",
    "    'NT':NT,\n",
    "    'T':T,\n",
    "    'refin': refin,\n",
    "    'noiseamp': noiseamp,\n",
    "    'Id':Id,\n",
    "    'sigma':sigma,\n",
    "    'gl': gl,\n",
    "    'xaper':xaper,\n",
    "    'yaper':yaper,\n",
    "    'xsamp':xsamp,\n",
    "    'ysamp':ysamp,\n",
    "    'rlen': rlen,\n",
    "    'dz' : dz,\n",
    "    'dz_frac':dz_frac,\n",
    "    'windowedge':windowedge,\n",
    "    'geom':geom,\n",
    "    'lm':lm,\n",
    "    'w01':w01,\n",
    "    'w02':w02,\n",
    "    'thout1':thout1,\n",
    "    'thout2':thout2,\n",
    "    'phi1':phi1,\n",
    "    'phi2':phi2,\n",
    "    'rat':rat,\n",
    "    'mode':mode,\n",
    "    'transp1':transp1,\n",
    "    'transp2':transp2,\n",
    "    'loc':loc,\n",
    "    'storenoise':storenoise,\n",
    "    'corrnoise':[[]]\n",
    "    \n",
    "    \n",
    "}\n"
   ]
  },
  {
   "cell_type": "code",
   "execution_count": 6,
   "id": "3952687c",
   "metadata": {},
   "outputs": [],
   "source": [
    "def show(x):\n",
    "    print(type(x),x.dtype,np.shape(x))"
   ]
  },
  {
   "cell_type": "code",
   "execution_count": 7,
   "id": "812b67cf",
   "metadata": {},
   "outputs": [],
   "source": [
    "#type(dz_small)"
   ]
  },
  {
   "cell_type": "code",
   "execution_count": 8,
   "id": "c8c70fec",
   "metadata": {},
   "outputs": [],
   "source": [
    "corrnoise=np.random.rand(niter,xsamp,ysamp)-0.5"
   ]
  },
  {
   "cell_type": "code",
   "execution_count": 9,
   "id": "K5x6CBawe-bI",
   "metadata": {
    "executionInfo": {
     "elapsed": 32,
     "status": "ok",
     "timestamp": 1664817943580,
     "user": {
      "displayName": "Mark Cronin-Golomb",
      "userId": "14693722444992082432"
     },
     "user_tz": 240
    },
    "id": "K5x6CBawe-bI"
   },
   "outputs": [],
   "source": [
    "# of samples in  transverse x and y\n",
    "#sharma test parameters\n",
    "if test_sharma:\n",
    "    x=np.linspace(-xaper/2,xaper/2,xsamp)\n",
    "    y=np.linspace(-yaper/2,yaper/2,ysamp)\n",
    "    z=np.linspace(0,rlen,niter)\n",
    "    xsamp=60*8\n",
    "    ysamp=40*8\n",
    "    xaper=25*8\n",
    "    yaper=33*8\n",
    "    dz=10 #.1\n",
    "    lm=1\n",
    "    refin=1.0  #1.45\n",
    "    thout1= 25*np.pi/180.0\n",
    "    thout2= 25*np.pi/180.0\n",
    "    rlen=80*8\n",
    "    w01=2*8\n",
    "    w02=2*8\n",
    "    rat=0\n",
    "    niter=int(rlen/dz)\n",
    "    \n",
    "    prdata['niter']=niter\n",
    "    prdata['xsamp']=xsamp\n",
    "    prdata['ysamp']=ysamp\n",
    "    prdata['xaper']=xaper\n",
    "    prdata['yaper']=yaper\n",
    "    prdata['dz']=dz\n",
    "    prdata['lm']=lm\n",
    "    prdata['refin']=refin\n",
    "    prdata['thout1']= thout1\n",
    "    prdata['thout2']= thout2\n",
    "    prdata['rlen']=rlen\n",
    "    prdata['w01']=w01\n",
    "    prdata['w02']=w02\n",
    "    prdata['rat']=rat\n",
    "#####\n",
    "\n",
    "dx=xaper/xsamp\n",
    "dy=yaper/ysamp\n",
    "dX=1/xaper\n",
    "dY=1/yaper\n",
    "dxy=dx*dy\n",
    "dXY=dX*dY\n",
    "xy=xsamp*ysamp\n",
    "\n",
    "#prdata['dX']=dX\n",
    "#prdata['dY']=dY\n",
    "#prdata['dxy']=dxy\n",
    "#prdata['dXY']=dXY\n",
    "#prdata['xy']=xy"
   ]
  },
  {
   "cell_type": "code",
   "execution_count": 10,
   "id": "6b426904",
   "metadata": {
    "colab": {
     "base_uri": "https://localhost:8080/"
    },
    "executionInfo": {
     "elapsed": 925,
     "status": "ok",
     "timestamp": 1664817944477,
     "user": {
      "displayName": "Mark Cronin-Golomb",
      "userId": "14693722444992082432"
     },
     "user_tz": 240
    },
    "id": "6b426904",
    "outputId": "6686e944-e342-47ca-d6f4-169a4d10f52f"
   },
   "outputs": [],
   "source": [
    "\n",
    "\n",
    "# no space charge field in y direction right now\n",
    "\n",
    "#data_in_size um\n",
    "data_in_size=w01\n",
    "prdata['data_in_size']=int(data_in_size)\n",
    "kin=2*np.pi*refin/lm\n",
    "#max angle of incidence\n",
    "sn=2*np.pi*xsamp/(kin*xaper)\n",
    "if sn>1.0:\n",
    "      sn=1.0\n",
    "thmax=np.arcsin(sn)\n",
    "\n",
    "\n",
    "# from Garrett and Warde JOSAB 9 1407 1992\n",
    "# photorefractive characteristic grating wavenumber\n",
    "\n",
    "# characteristic space charge field (See CG whole beam method paper)\n",
    "\n",
    "# effective electrooptic coefficient corresponding to specified gl coupling constant length product\n",
    "#prdata['reff']=2*gl*lm/(rlen*np.pi*refin**3*Es)\n",
    "\n",
    "# set up arrays of coodinates\n",
    "\n",
    "# x and y frequency space in natural fft space frequency zero at array[0]\n",
    "fx1=np.linspace(0,(xsamp/2-1)/(xaper),int(xsamp/2))\n",
    "fx2=np.linspace(-xsamp/2/(xaper),-1.0/xaper,int(xsamp/2))\n",
    "fx=np.concatenate((fx1,fx2))\n",
    "#prdata['fx']=fx\n",
    "fy1=np.linspace(0,(ysamp/2-1)/(yaper),int(ysamp/2))\n",
    "fy2=np.linspace(-ysamp/2/(yaper),-1.0/yaper,int(ysamp/2))\n",
    "fy=np.concatenate((fy1,fy2))\n",
    "#prdata['fy']=fy\n",
    "\n",
    "\n",
    "\n",
    "fxy=np.zeros((xsamp,ysamp),dtype=\"float\")\n",
    "\n",
    "# optical propagator\n",
    "\n",
    "\n",
    "#2D fxy for esc calculation\n",
    "\n",
    "for j in range(xsamp):\n",
    "    for k in range(ysamp):\n",
    "        fxy[j,k]=(fx[j]**2+fy[k]**2);\n",
    "\n",
    "# basic kukhtarev space charge field not used yet\n",
    "\n"
   ]
  },
  {
   "cell_type": "code",
   "execution_count": 11,
   "id": "1bc00755",
   "metadata": {
    "executionInfo": {
     "elapsed": 6456,
     "status": "ok",
     "timestamp": 1664817950925,
     "user": {
      "displayName": "Mark Cronin-Golomb",
      "userId": "14693722444992082432"
     },
     "user_tz": 240
    },
    "id": "1bc00755"
   },
   "outputs": [],
   "source": [
    "h=np.zeros((xsamp,ysamp),dtype=\"complex\")\n",
    "sqrarg=1-(lm/refin)**2*fxy\n",
    "h = np.exp(2.0j*np.pi*refin*dz/lm*np.sqrt(1-(lm/refin)**2*(fxy)))\n",
    "prdata['h']=h\n"
   ]
  },
  {
   "cell_type": "code",
   "execution_count": 12,
   "id": "1a640b83",
   "metadata": {
    "executionInfo": {
     "elapsed": 77,
     "status": "ok",
     "timestamp": 1664817951389,
     "user": {
      "displayName": "Mark Cronin-Golomb",
      "userId": "14693722444992082432"
     },
     "user_tz": 240
    },
    "id": "1a640b83"
   },
   "outputs": [],
   "source": [
    "##tukey window\n",
    "#windowx=[]\n",
    "#windowy=[]\n",
    "#windowedge=prdata['windowedge']\n",
    "windowx = signal.windows.tukey(xsamp,alpha=windowedge)\n",
    "windowy = signal.windows.tukey(ysamp,alpha=windowedge)\n",
    "windowxy=np.outer(windowx,windowy)\n",
    "fwindowxy=np.fft.fftshift(windowxy)\n",
    "\n",
    "#prdata['windowxy']=windowxy\n",
    "#prdata['fwindowxy']=fwindowxy\n"
   ]
  },
  {
   "cell_type": "code",
   "execution_count": 13,
   "id": "5otObV1ujQrh",
   "metadata": {
    "executionInfo": {
     "elapsed": 1081,
     "status": "ok",
     "timestamp": 1664817952430,
     "user": {
      "displayName": "Mark Cronin-Golomb",
      "userId": "14693722444992082432"
     },
     "user_tz": 240
    },
    "id": "5otObV1ujQrh"
   },
   "outputs": [],
   "source": [
    "#pseudorandom 3D noise array, uniform between -0.5 and 0.5\n"
   ]
  },
  {
   "cell_type": "code",
   "execution_count": 14,
   "id": "OB528c06phcA",
   "metadata": {
    "executionInfo": {
     "elapsed": 11,
     "status": "ok",
     "timestamp": 1664817952431,
     "user": {
      "displayName": "Mark Cronin-Golomb",
      "userId": "14693722444992082432"
     },
     "user_tz": 240
    },
    "id": "OB528c06phcA"
   },
   "outputs": [],
   "source": [
    "#sigma, noise correlation length microns, noiseamp amplitude of scatterers\n",
    "#sigmax,y,x corresponding correlation length in terms of array units\n",
    "#sigma=prdata['sigma']\n",
    "sigmax=sigma*xsamp/xaper\n",
    "sigmay=sigma*ysamp/yaper\n",
    "sigmaz=sigma*niter/rlen"
   ]
  },
  {
   "cell_type": "code",
   "execution_count": 15,
   "id": "aSKjlNEgmxab",
   "metadata": {
    "executionInfo": {
     "elapsed": 11,
     "status": "ok",
     "timestamp": 1664817952432,
     "user": {
      "displayName": "Mark Cronin-Golomb",
      "userId": "14693722444992082432"
     },
     "user_tz": 240
    },
    "id": "aSKjlNEgmxab"
   },
   "outputs": [],
   "source": [
    "if storenoise==True:\n",
    "    if newnoise==True:\n",
    "        corrnoise=np.random.rand(niter,xsamp,ysamp)-0.5\n",
    "        corrnoise=gaussian_filter(corrnoise,sigma=(sigmaz,sigmax,sigmay))\n",
    "        corrnoise1layer=corrnoise[0,:]\n",
    "        np.savez(filepath+'corrnoise1layer.npz',corrnoise1layer)\n",
    "        np.savez(filepath+'corrnoise.npz',corrnoise)\n",
    "        \n",
    "    else:\n",
    "        corrnoise1layer=np.load(filepath+'corrnoise1layer.npz')['arr_0']\n",
    "        corrnoise=np.load(filepath+'corrnoise.npz')['arr_0']\n",
    "    prdata['corrnoise1layer']=corrnoise1layer\n",
    "    prdata['corrnoise']=corrnoise\n"
   ]
  },
  {
   "cell_type": "code",
   "execution_count": 16,
   "id": "7958737a",
   "metadata": {
    "executionInfo": {
     "elapsed": 48,
     "status": "ok",
     "timestamp": 1664817958494,
     "user": {
      "displayName": "Mark Cronin-Golomb",
      "userId": "14693722444992082432"
     },
     "user_tz": 240
    },
    "id": "7958737a"
   },
   "outputs": [],
   "source": [
    "# define two crossing input gaussians"
   ]
  },
  {
   "cell_type": "code",
   "execution_count": 17,
   "id": "10101ea6",
   "metadata": {
    "executionInfo": {
     "elapsed": 46,
     "status": "ok",
     "timestamp": 1664817958500,
     "user": {
      "displayName": "Mark Cronin-Golomb",
      "userId": "14693722444992082432"
     },
     "user_tz": 240
    },
    "id": "10101ea6"
   },
   "outputs": [],
   "source": [
    "# input beam amplitudes based on beam ratio\n"
   ]
  },
  {
   "cell_type": "code",
   "execution_count": 18,
   "id": "3d729ac9",
   "metadata": {},
   "outputs": [],
   "source": [
    "bwidth=.1\n",
    "nxp=int(bwidth*xsamp)\n",
    "def Fn(j,nxb,nxp,p0,x):\n",
    "    \n",
    "    d=x[nxb]-x[nxp]\n",
    "    arg=np.pi*(x[nxp]-x[j])/d\n",
    "    f=-64/(8j+3*p0-4*p0*np.cos(arg)+p0*np.cos(2*arg))**2\n",
    "    return f\n",
    "def Gn(j,nxb,nxp,p0,x):\n",
    "    \n",
    "    d=x[nxb]-x[nxp]\n",
    "    arg=np.pi*(x[nxp]-x[j])/d\n",
    "    g=128*p0*(np.pi*np.sin(arg))**2*(8*(p0-2j)-(32j+9*p0)*np.cos(arg)+p0*np.cos(3*arg))/(d*(8j+3*p0-4*p0*np.cos(arg)+p0*np.cos(2*arg))**2)**2\n",
    "    return g\n",
    "def hh(j,nxb,nxp,p0,x):\n",
    "    \n",
    "    d=x[nxb]-x[nxp]\n",
    "    arg=np.pi*(x[nxp]-x[j])/d\n",
    "    h=x[j]-1j/16*p0*(6*x[j]-6*x[nxp]-d/np.pi*(-8*np.sin(arg)+np.sin(2*arg)))\n",
    "    return h\n",
    "def F1n(j,nxb,nxp,p0,x):\n",
    "    \n",
    "    d=x[nxb]-x[nxp]\n",
    "    arg=np.pi*(x[nxp]-x[j])/d\n",
    "    f=8j/(8j+3*p0-4*p0*np.cos(arg)+p0*np.cos(2*arg))\n",
    "    return f \n",
    "   "
   ]
  },
  {
   "cell_type": "code",
   "execution_count": 19,
   "id": "dbc99737",
   "metadata": {},
   "outputs": [],
   "source": [
    "Fd=np.ones(xsamp,dtype='complex')\n",
    "Gd=np.zeros(xsamp,dtype='complex')\n",
    "xd=x.astype(complex) #stretched x for pml\n",
    "p0=0.1\n",
    "for j in range(nxp+1):\n",
    "    Fd[j]=(Fn(j,0,nxp,p0,x))\n",
    "    Gd[j]=(Gn(j,0,nxp,p0,x))\n",
    "    xd[j]=np.conj(hh(j,0,nxp,p0,x))\n",
    "for j in range(xsamp-1-nxp,xsamp):\n",
    "    Fd[j]=(Fn(j,xsamp-1,xsamp-1-nxp,p0,x))\n",
    "    Gd[j]=(Gn(j,xsamp-1,xsamp-1-nxp,p0,x))\n",
    "    xd[j]=np.conj(hh(j,xsamp-1,xsamp-1-nxp,p0,x))\n",
    "F=np.diag(Fd)\n",
    "F=np.conj(F)\n",
    "G=np.diag(Gd)\n",
    "G=np.conj(G)\n"
   ]
  },
  {
   "cell_type": "code",
   "execution_count": 20,
   "id": "dd577aa3",
   "metadata": {},
   "outputs": [],
   "source": [
    "\n",
    "xp1=np.zeros((xsamp,ysamp),dtype=complex)\n",
    "yp1=np.zeros((xsamp,ysamp),dtype=complex)\n",
    "zp1=np.zeros((xsamp,ysamp),dtype=complex)\n",
    "xp2=np.zeros((xsamp,ysamp),dtype=complex)\n",
    "yp2=np.zeros((xsamp,ysamp),dtype=complex)\n",
    "zp2=np.zeros((xsamp,ysamp),dtype=complex)\n",
    "\n",
    "xp1dz=np.zeros((xsamp,ysamp),dtype=complex)\n",
    "yp1dz=np.zeros((xsamp,ysamp),dtype=complex)\n",
    "zp1dz=np.zeros((xsamp,ysamp),dtype=complex)\n",
    "xp2dz=np.zeros((xsamp,ysamp),dtype=complex)\n",
    "yp2dz=np.zeros((xsamp,ysamp),dtype=complex)\n",
    "zp2dz=np.zeros((xsamp,ysamp),dtype=complex)\n",
    "\n",
    "#empirical correction extra division by 2\n",
    "el=rlen/2.0\n",
    "\n",
    "#x=xd #temp switch x to stretched\n",
    "\n",
    "sp1=np.sin(phi1)\n",
    "cp1=np.cos(phi1)\n",
    "st1=np.sin(th1)\n",
    "ct1=np.cos(th1)\n",
    "sp2=np.sin(phi2)\n",
    "cp2=np.cos(phi2)\n",
    "st2=np.sin(th2)\n",
    "ct2=np.cos(th2)\n",
    "\n",
    "\n",
    "for j in range(xsamp):\n",
    "     for k in range(ysamp):                     \n",
    "        xp1[j,k]=1/2*(x[j]+x[j]*cp1**2*(-1+2*ct1)+x[j]*sp1**2+y[k]*np.sin(2*phi1)+cp1*(-2*y[k]*ct1*sp1+2*(-el)*st1))\n",
    "        yp1[j,k]=1/2*(y[k]+cp1**2*(y[k]-y[k]*ct1)-2*x[j]*cp1*ct1*sp1-y[k]*sp1**2+y[k]*ct1*(1+sp1**2)+x[j]*np.sin(2*phi1)-2*(-el)*sp1*st1)\n",
    "        zp1[j,k]=(-el)*ct1+(-x[j]*cp1+y[k]*sp1)*st1\n",
    "        \n",
    "        xp1dz[j,k]=1/2*(x[j]+x[j]*cp1**2*(-1+2*ct1)+x[j]*sp1**2+y[k]*np.sin(2*phi1)+cp1*(-2*y[k]*ct1*sp1+2*(-el+dz_small)*st1))\n",
    "        yp1dz[j,k]=1/2*(y[k]+cp1**2*(y[k]-y[k]*ct1)-2*x[j]*cp1*ct1*sp1-y[k]*sp1**2+y[k]*ct1*(1+sp1**2)+x[j]*np.sin(2*phi1)-2*(-el+dz_small)*sp1*st1)\n",
    "        zp1dz[j,k]=(-el+dz_small)*ct1+(-x[j]*cp1+y[k]*sp1)*st1\n",
    "        \n",
    "        xp2[j,k]=1/2*(x[j]+x[j]*cp2**2*(-1+2*ct2)+x[j]*sp2**2+y[k]*np.sin(2*phi2)+cp2*(-2*y[k]*ct2*sp2+2*(-el)*st2))\n",
    "        yp2[j,k]=1/2*(y[k]+cp2**2*(y[k]-y[k]*ct2)-2*x[j]*cp2*ct2*sp2-y[k]*sp2**2+y[k]*ct2*(1+sp2**2)+x[j]*np.sin(2*phi2)-2*(-el)*sp2*st2)\n",
    "        zp2[j,k]=(-el)*ct2+(-x[j]*cp2+y[k]*sp2)*st2\n",
    "        \n",
    "        xp2dz[j,k]=1/2*(x[j]+x[j]*cp2**2*(-1+2*ct2)+x[j]*sp2**2+y[k]*np.sin(2*phi2)+cp2*(-2*y[k]*ct2*sp2+2*(-el+dz_small)*st2))\n",
    "        yp2dz[j,k]=1/2*(y[k]+cp2**2*(y[k]-y[k]*ct2)-2*x[j]*cp2*ct2*sp2-y[k]*sp2**2+y[k]*ct2*(1+sp2**2)+x[j]*np.sin(2*phi2)-2*(-el+dz_small)*sp2*st2)\n",
    "        zp2dz[j,k]=(-el+dz_small)*ct2+(-x[j]*cp2+y[k]*sp2)*st2\n",
    "        \n",
    "\n",
    "prdata['xp1']=xp1\n",
    "prdata['yp1']=yp1\n",
    "prdata['zp1']=zp1\n",
    "prdata['xp1dz']=xp1dz\n",
    "prdata['yp1dz']=yp1dz\n",
    "prdata['zp1dz']=zp1dz\n",
    "prdata['xp2']=xp2\n",
    "prdata['yp2']=yp2\n",
    "prdata['zp2']=zp2\n",
    "prdata['xp2dz']=xp2dz\n",
    "prdata['yp2dz']=yp2dz\n",
    "prdata['zp2dz']=zp2dz\n"
   ]
  },
  {
   "cell_type": "code",
   "execution_count": 21,
   "id": "650fbe05",
   "metadata": {},
   "outputs": [
    {
     "data": {
      "text/plain": [
       "0.0"
      ]
     },
     "execution_count": 21,
     "metadata": {},
     "output_type": "execute_result"
    }
   ],
   "source": [
    "phi2"
   ]
  },
  {
   "cell_type": "code",
   "execution_count": 22,
   "id": "8f84e03f",
   "metadata": {},
   "outputs": [],
   "source": [
    "\n",
    "korder=100\n",
    "order=12\n",
    "a=np.zeros(korder)\n",
    "b=np.zeros(korder)\n",
    "kin=prdata['refin']*2*np.pi/prdata['lm']\n",
    "a[1]=1\n",
    "for m in range(1,korder-1):\n",
    "       a[m+1]=-a[m]*(2*m-1)**2/(2*m*(2*m+1))\n",
    "for k in range(1,korder-1):\n",
    "    b[k]=(1/4**(k-1))*sum(a[m]*a[k-m+1] for m in range(k+1))\n",
    "Dx=sparse.diags([-1, 2, -1], [-1, 0, 1], shape=(xsamp, xsamp)).toarray()\n",
    "Dy=sparse.diags([-1, 2, -1], [-1, 0, 1], shape=(ysamp, ysamp)).toarray()\n",
    "A=sum(b[j]*matrix_power(-Dx,j) for j in range(1,order+1))/dx**2\n",
    "B=sum(b[j]*matrix_power(-Dy,j) for j in range(1,order+1))/dy**2"
   ]
  },
  {
   "cell_type": "code",
   "execution_count": 23,
   "id": "16dae1a1",
   "metadata": {},
   "outputs": [],
   "source": [
    "\n",
    "if pml:\n",
    "\n",
    "    #S=A1+np.diag(Gd)\n",
    "    #vals,vecs=np.linalg.eig(S)\n",
    "    vals,vecs=np.linalg.eig(F@A)   ### now replace Dx by F@A\n",
    "    idx = vals.argsort()[::-1]   \n",
    "    vals = vals[idx]\n",
    "    vecs = vecs[:,idx]\n",
    "    Lx=vals\n",
    "    Vx=vecs\n",
    "    Vxinv=np.linalg.inv(Vx)\n",
    "    #Odx=-sum(b[j]*(-Lx)**j for j in range(1,order+1))/dx**2+(kin)**2*np.ones(xsamp)\n",
    "    Odx=-vals-np.conj(Gd)+(kin)**2*np.ones(xsamp) #+-\n",
    "    #Odx=-vals+(kin)**2*np.ones(xsamp)\n",
    "else:    \n",
    "    dz=-dz\n",
    "    Lx=np.zeros(xsamp)\n",
    "    Vx=np.zeros((xsamp,xsamp))\n",
    "    for i in range(xsamp):\n",
    "        Lx[i]=4*np.sin((i+1)*np.pi/(2*xsamp+2))**2\n",
    "        for j in range(xsamp):\n",
    "            Vx[i,j]=np.sqrt(2/(xsamp+1))*np.sin((i+1)*(j+1)*np.pi/(xsamp+1))\n",
    "    Vxinv=Vx    \n",
    "    Odx=-sum(b[j]*(-Lx)**j for j in range(1,order+1))/dx**2+(kin)**2*np.ones(xsamp)\n",
    "\n",
    "Ly=np.zeros(ysamp)\n",
    "Vy=np.zeros((ysamp,ysamp))\n",
    "for i in range(ysamp):\n",
    "    Ly[i]=4*np.sin((i+1)*np.pi/(2*ysamp+2))**2\n",
    "    for j in range(ysamp):\n",
    "        Vy[i,j]=np.sqrt(2/(ysamp+1))*np.sin((i+1)*(j+1)*np.pi/(ysamp+1))\n",
    "        \n",
    "Oy=sum(b[j]*(-Ly)**j for j in range(1,order+1))/dy**2\n",
    "\n",
    "\n",
    "Ody=(kin)**2*np.ones(ysamp)-Oy\n",
    "Ov11y=np.diag(np.cos(np.sqrt(Ody)*dz)) #do full step instead of 1/2)\n",
    "Ov22y=Ov11y\n",
    "Ov12y=np.diag(np.sin(np.sqrt(Ody)*dz)/np.sqrt(Ody))\n",
    "Ov21y=-np.diag(np.sin(np.sqrt(Ody)*dz)*np.sqrt(Ody))\n",
    "\n",
    "Py11=Vy@Ov11y@Vy\n",
    "Py22=Vy@Ov22y@Vy\n",
    "Py21=Vy@Ov21y@Vy\n",
    "Py12=Vy@Ov12y@Vy\n",
    "\n",
    "#Odx=(kin)**2*np.ones(xsamp)-Ox #diagonal\n",
    "Ov11x=np.diag(np.cos(np.sqrt(Odx)*dz))\n",
    "Ov22x=Ov11x\n",
    "Ov12x=np.diag(np.sin(np.sqrt(Odx)*dz)/np.sqrt(Odx))\n",
    "Ov21x=-np.diag(np.sin(np.sqrt(Odx)*dz)*np.sqrt(Odx))\n",
    "\n",
    "Px11=Vx@Ov11x@Vxinv\n",
    "Px22=Vx@Ov22x@Vxinv\n",
    "Px21=Vx@Ov21x@Vxinv\n",
    "Px12=Vx@Ov12x@Vxinv\n",
    "\n",
    "Px11=makesparse(Px11)\n",
    "Px12=makesparse(Px12)\n",
    "Px21=makesparse(Px21)\n",
    "Px22=makesparse(Px22)\n",
    "Py11=makesparse(Py11)\n",
    "Py12=makesparse(Py12)\n",
    "Py21=makesparse(Py21)\n",
    "Py22=makesparse(Py22)\n",
    "\n",
    "Px=[[Px11,Px12],[Px21,Px22]]\n",
    "Py=[[Py11,Py12],[Py21,Py22]]\n",
    "\n",
    "\n",
    "prdata['A']=makesparse(A)\n",
    "prdata['B']=makesparse(B)\n",
    "prdata['Px']=Px\n",
    "prdata['Py']=Py\n",
    "\n",
    "\n",
    "if pml==False:\n",
    "    dz=-dz\n",
    "    \n",
    "savemat(\"prdata.mat\", prdata)"
   ]
  },
  {
   "cell_type": "code",
   "execution_count": 24,
   "id": "ec213467",
   "metadata": {
    "scrolled": true
   },
   "outputs": [
    {
     "data": {
      "text/plain": [
       "[<matplotlib.lines.Line2D at 0x16b9dd8e0>]"
      ]
     },
     "execution_count": 24,
     "metadata": {},
     "output_type": "execute_result"
    },
    {
     "data": {
      "image/png": "[encoded data removed]",
      "text/plain": [
       "<Figure size 640x480 with 1 Axes>"
      ]
     },
     "metadata": {},
     "output_type": "display_data"
    }
   ],
   "source": [
    "plt.plot(abs(Fd[xsamp-nxp-1:xsamp-1]))\n",
    "plt.plot(abs(Fd[:nxp+1]))"
   ]
  },
  {
   "cell_type": "code",
   "execution_count": 25,
   "id": "8248e1cc",
   "metadata": {},
   "outputs": [
    {
     "data": {
      "text/plain": [
       "[<matplotlib.lines.Line2D at 0x16bacdc40>]"
      ]
     },
     "execution_count": 25,
     "metadata": {},
     "output_type": "execute_result"
    },
    {
     "data": {
      "image/png": "[encoded data removed]",
      "text/plain": [
       "<Figure size 640x480 with 1 Axes>"
      ]
     },
     "metadata": {},
     "output_type": "display_data"
    }
   ],
   "source": [
    "plt.plot(abs(Odx))"
   ]
  },
  {
   "cell_type": "code",
   "execution_count": 26,
   "id": "b00fc97e",
   "metadata": {},
   "outputs": [
    {
     "data": {
      "text/plain": [
       "<matplotlib.image.AxesImage at 0x16bc39c70>"
      ]
     },
     "execution_count": 26,
     "metadata": {},
     "output_type": "execute_result"
    },
    {
     "data": {
      "image/png": "[encoded data removed]",
      "text/plain": [
       "<Figure size 640x480 with 1 Axes>"
      ]
     },
     "metadata": {},
     "output_type": "display_data"
    }
   ],
   "source": [
    "plt.imshow(fwindowxy,aspect='auto')"
   ]
  },
  {
   "cell_type": "code",
   "execution_count": 27,
   "id": "90e66563",
   "metadata": {},
   "outputs": [
    {
     "data": {
      "text/plain": [
       "200"
      ]
     },
     "execution_count": 27,
     "metadata": {},
     "output_type": "execute_result"
    }
   ],
   "source": [
    "prdata['data_in_size']"
   ]
  },
  {
   "cell_type": "code",
   "execution_count": 28,
   "id": "702611b3",
   "metadata": {},
   "outputs": [
    {
     "name": "stdout",
     "output_type": "stream",
     "text": [
      "q\n",
      "kB\n",
      "eps0\n",
      "epsr\n",
      "NT\n",
      "T\n",
      "refin\n",
      "noiseamp\n",
      "Id\n",
      "sigma\n",
      "gl\n",
      "xaper\n",
      "yaper\n",
      "xsamp\n",
      "ysamp\n",
      "rlen\n",
      "dz\n",
      "dz_frac\n",
      "windowedge\n",
      "geom\n",
      "lm\n",
      "w01\n",
      "w02\n",
      "thout1\n",
      "thout2\n",
      "phi1\n",
      "phi2\n",
      "rat\n",
      "mode\n",
      "transp1\n",
      "transp2\n",
      "loc\n",
      "storenoise\n",
      "corrnoise\n",
      "data_in_size\n",
      "h\n",
      "xp1\n",
      "yp1\n",
      "zp1\n",
      "xp1dz\n",
      "yp1dz\n",
      "zp1dz\n",
      "xp2\n",
      "yp2\n",
      "zp2\n",
      "xp2dz\n",
      "yp2dz\n",
      "zp2dz\n",
      "A\n",
      "B\n",
      "Px\n",
      "Py\n"
     ]
    }
   ],
   "source": [
    "for key in prdata.keys():\n",
    "    print(key)"
   ]
  },
  {
   "cell_type": "code",
   "execution_count": null,
   "id": "24f2b44c",
   "metadata": {},
   "outputs": [],
   "source": []
  }
 ],
 "metadata": {
  "colab": {
   "collapsed_sections": [],
   "machine_shape": "hm",
   "provenance": [
    {
     "file_id": "1hB54c_ogo_7tKs7h9JyyYIBlf4Dl3poq",
     "timestamp": 1664484225308
    },
    {
     "file_id": "1ATnico7aSecT8uif9IOkpin6lQa3lGuo",
     "timestamp": 1662674857349
    },
    {
     "file_id": "1JvAEQoU0K3LRCJIYrzay71jOqRCvwWRi",
     "timestamp": 1662584819092
    }
   ]
  },
  "gpuClass": "premium",
  "kernelspec": {
   "display_name": "Python 3 (ipykernel)",
   "language": "python",
   "name": "python3"
  },
  "language_info": {
   "codemirror_mode": {
    "name": "ipython",
    "version": 3
   },
   "file_extension": ".py",
   "mimetype": "text/x-python",
   "name": "python",
   "nbconvert_exporter": "python",
   "pygments_lexer": "ipython3",
   "version": "3.9.10"
  }
 },
 "nbformat": 4,
 "nbformat_minor": 5
}
